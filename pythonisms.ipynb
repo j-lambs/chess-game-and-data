{
 "cells": [
  {
   "cell_type": "markdown",
   "id": "484db526",
   "metadata": {},
   "source": [
    "# What is Slicing and how to use it in the context of numpy"
   ]
  },
  {
   "cell_type": "code",
   "execution_count": null,
   "id": "8542a28f",
   "metadata": {},
   "outputs": [
    {
     "name": "stdout",
     "output_type": "stream",
     "text": [
      "[ 5  9 85]\n",
      "[  5   9  85 100 250]\n",
      "[ 85 100 250]\n",
      "[ 85 100]\n",
      "[  1   9 100]\n"
     ]
    }
   ],
   "source": [
    "# https://www.youtube.com/watch?v=PbKOrSottRQ\n",
    "import numpy as np\n",
    "arr = np.array([1, 5, 9, 85, 100, 250])\n",
    "\n",
    "# What if we wanted to return 5, 9, 85?\n",
    "print(arr[1:4])\n",
    "\n",
    "# Return from 2nd elt to end of array?\n",
    "print(arr[1:])\n",
    "\n",
    "# What if wanted to return from the end, backwards?\n",
    "print(arr[-3:])\n",
    "print(arr[-3:-1])\n",
    "\n",
    "# Return slices in steps\n",
    "print(arr[::2])    # steps of 2\n",
    "\n",
    "\n"
   ]
  },
  {
   "cell_type": "markdown",
   "id": "e7e0cec7",
   "metadata": {},
   "source": [
    "## Slicing a 2D Numpy Array"
   ]
  },
  {
   "cell_type": "code",
   "execution_count": null,
   "id": "b0481b37",
   "metadata": {},
   "outputs": [
    {
     "name": "stdout",
     "output_type": "stream",
     "text": [
      "5\n",
      "[[2 3]]\n",
      "[[2 3 4]\n",
      " [7 8 9]]\n"
     ]
    }
   ],
   "source": [
    "a2 = np.array(\n",
    "    [[1,2,3,4,5], \n",
    "     [6,7,8,9,10]])  # create 2d numpy array\n",
    "\n",
    "# get single elt from 2d array\n",
    "print(a2[0, 4])\n",
    "\n",
    "# Slice 2d array, first row only\n",
    "print(a2[0:1, 1:3])\n",
    "\n",
    "# Slice 2d array, all  rows\n",
    "print(a2[0:, 1:4])\n"
   ]
  },
  {
   "cell_type": "markdown",
   "id": "3980c3ca",
   "metadata": {},
   "source": [
    "# What is a Counter object and how does it work?"
   ]
  },
  {
   "cell_type": "code",
   "execution_count": 5,
   "id": "4b78f4e0",
   "metadata": {},
   "outputs": [
    {
     "name": "stdout",
     "output_type": "stream",
     "text": [
      "Most common value: 3\n"
     ]
    }
   ],
   "source": [
    "import numpy as np\n",
    "from collections import Counter\n",
    "\n",
    "y = np.array([1, 2, 3, 4, 5, 3])\n",
    "counter = Counter(y)\n",
    "value = counter.most_common(1)[0][0]    # Most common tuple, and get first element\n",
    "print(f'Most common value: {value}')"
   ]
  },
  {
   "cell_type": "markdown",
   "id": "ad4d3947",
   "metadata": {},
   "source": [
    "# Numpy bincount demo"
   ]
  },
  {
   "cell_type": "code",
   "execution_count": 8,
   "id": "80c8aab3",
   "metadata": {},
   "outputs": [
    {
     "data": {
      "text/plain": [
       "array([0, 1, 1, 2, 1, 3])"
      ]
     },
     "execution_count": 8,
     "metadata": {},
     "output_type": "execute_result"
    }
   ],
   "source": [
    "y = np.array([1, 2, 3, 4, 5, 3, 5, 5])\n",
    "np.bincount(y)"
   ]
  },
  {
   "cell_type": "markdown",
   "id": "264e6514",
   "metadata": {},
   "source": [
    "# Numpy argwhere"
   ]
  },
  {
   "cell_type": "code",
   "execution_count": 13,
   "id": "a86523c8",
   "metadata": {},
   "outputs": [
    {
     "name": "stdout",
     "output_type": "stream",
     "text": [
      "[[2]\n",
      " [3]\n",
      " [5]]\n",
      "[2 3 5]\n"
     ]
    }
   ],
   "source": [
    "y = np.array([1, 2, 3, 4, 5, 3, 5, 5])\n",
    "print(np.argwhere((y > 2) & (y < 5)))\n",
    "print(np.argwhere((y > 2) & (y < 5)).flatten())"
   ]
  }
 ],
 "metadata": {
  "kernelspec": {
   "display_name": "pandas-pg",
   "language": "python",
   "name": "python3"
  },
  "language_info": {
   "codemirror_mode": {
    "name": "ipython",
    "version": 3
   },
   "file_extension": ".py",
   "mimetype": "text/x-python",
   "name": "python",
   "nbconvert_exporter": "python",
   "pygments_lexer": "ipython3",
   "version": "3.13.2"
  }
 },
 "nbformat": 4,
 "nbformat_minor": 5
}
